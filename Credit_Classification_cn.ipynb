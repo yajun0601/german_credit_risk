{
 "cells": [
  {
   "cell_type": "markdown",
   "metadata": {},
   "source": [
    "# German Credit Risk Classification"
   ]
  },
  {
   "cell_type": "markdown",
   "metadata": {},
   "source": [
    "Using pre-labeled data from the following Kaggle link:\n",
    "\n",
    "https://www.kaggle.com/uciml/german-credit\n",
    "\n",
    "This is a well known dataset for a classification of consumers into good and bad credit risks. As the dataset comes pre-labelled, a supervised approach is taken and variety of methods are used here to demonstrate the capabilities of different supervised classification algorithms.\n",
    "\n",
    "If the dataset came unlabeled, an unsupervised approach here would be warranted. Clustering algorithms such as K-means or DBScan would be viable options, but likely with similar consumer credit risk data with incomplete data and lack of history for certain consumers, a semi-supervised approach may also be a viable option."
   ]
  },
  {
   "cell_type": "code",
   "execution_count": 40,
   "metadata": {
    "collapsed": true
   },
   "outputs": [],
   "source": [
    "# MISCELLANEOUS IMPORTS\n",
    "import pandas as pd\n",
    "import patsy\n",
    "import matplotlib.pyplot as plt\n",
    "import numpy as np\n",
    "import seaborn as sns\n",
    "import itertools\n",
    "\n",
    "# MODELLING AND METRICS IMPORTS\n",
    "from sklearn.metrics import classification_report, confusion_matrix, accuracy_score\n",
    "from sklearn.pipeline import Pipeline\n",
    "from sklearn.preprocessing import OneHotEncoder, StandardScaler\n",
    "from sklearn.decomposition import PCA\n",
    "from sklearn.tree import DecisionTreeClassifier\n",
    "from sklearn.neighbors import KNeighborsClassifier\n",
    "from sklearn.svm import SVC\n",
    "from sklearn.ensemble import RandomForestClassifier, ExtraTreesClassifier\n",
    "from sklearn.naive_bayes import BernoulliNB\n",
    "from sklearn.model_selection import train_test_split, GridSearchCV, cross_val_score\n",
    "from sklearn.linear_model import LogisticRegression, SGDClassifier, PassiveAggressiveClassifier, Perceptron, RidgeClassifier\n",
    "from xgboost import XGBClassifier"
   ]
  },
  {
   "cell_type": "code",
   "execution_count": 2,
   "metadata": {
    "collapsed": true
   },
   "outputs": [],
   "source": [
    "# SET SEABORN STYLE\n",
    "sns.set(context='paper', style='white', palette='bone', font='sansserif', font_scale=1.5, color_codes=False, rc=None)\n",
    "\n",
    "# SET FONT DICTIONARY\n",
    "font = {'family': 'sansserif',\n",
    "        'color':  'black',\n",
    "        'weight': 'normal',\n",
    "        'variant': 'small-caps',\n",
    "        'size': 14\n",
    "        }"
   ]
  },
  {
   "cell_type": "markdown",
   "metadata": {},
   "source": [
    "# Data Loading, Exploration and Cleaning"
   ]
  },
  {
   "cell_type": "markdown",
   "metadata": {},
   "source": [
    "The dataset contains information on demographic data of the consumers with credit, their financial status indicators and information pertaining to their credit as well. A total of 9 features are given as potential predictors for their credit and we will be using all (after conversion) to predict whether a particular consumer is classified as a good or bad creditor."
   ]
  },
  {
   "cell_type": "code",
   "execution_count": 66,
   "metadata": {},
   "outputs": [
    {
     "data": {
      "text/html": [
       "<div>\n",
       "<table border=\"1\" class=\"dataframe\">\n",
       "  <thead>\n",
       "    <tr style=\"text-align: right;\">\n",
       "      <th></th>\n",
       "      <th>Unnamed: 0</th>\n",
       "      <th>Age</th>\n",
       "      <th>Sex</th>\n",
       "      <th>Job</th>\n",
       "      <th>Housing</th>\n",
       "      <th>Saving accounts</th>\n",
       "      <th>Checking account</th>\n",
       "      <th>Credit amount</th>\n",
       "      <th>Duration</th>\n",
       "      <th>Purpose</th>\n",
       "      <th>Class</th>\n",
       "    </tr>\n",
       "  </thead>\n",
       "  <tbody>\n",
       "    <tr>\n",
       "      <th>0</th>\n",
       "      <td>0</td>\n",
       "      <td>67</td>\n",
       "      <td>male</td>\n",
       "      <td>2</td>\n",
       "      <td>own</td>\n",
       "      <td>NaN</td>\n",
       "      <td>little</td>\n",
       "      <td>1169</td>\n",
       "      <td>6</td>\n",
       "      <td>radio/TV</td>\n",
       "      <td>1</td>\n",
       "    </tr>\n",
       "    <tr>\n",
       "      <th>1</th>\n",
       "      <td>1</td>\n",
       "      <td>22</td>\n",
       "      <td>female</td>\n",
       "      <td>2</td>\n",
       "      <td>own</td>\n",
       "      <td>little</td>\n",
       "      <td>moderate</td>\n",
       "      <td>5951</td>\n",
       "      <td>48</td>\n",
       "      <td>radio/TV</td>\n",
       "      <td>2</td>\n",
       "    </tr>\n",
       "    <tr>\n",
       "      <th>2</th>\n",
       "      <td>2</td>\n",
       "      <td>49</td>\n",
       "      <td>male</td>\n",
       "      <td>1</td>\n",
       "      <td>own</td>\n",
       "      <td>little</td>\n",
       "      <td>NaN</td>\n",
       "      <td>2096</td>\n",
       "      <td>12</td>\n",
       "      <td>education</td>\n",
       "      <td>1</td>\n",
       "    </tr>\n",
       "    <tr>\n",
       "      <th>3</th>\n",
       "      <td>3</td>\n",
       "      <td>45</td>\n",
       "      <td>male</td>\n",
       "      <td>2</td>\n",
       "      <td>free</td>\n",
       "      <td>little</td>\n",
       "      <td>little</td>\n",
       "      <td>7882</td>\n",
       "      <td>42</td>\n",
       "      <td>furniture/equipment</td>\n",
       "      <td>1</td>\n",
       "    </tr>\n",
       "    <tr>\n",
       "      <th>4</th>\n",
       "      <td>4</td>\n",
       "      <td>53</td>\n",
       "      <td>male</td>\n",
       "      <td>2</td>\n",
       "      <td>free</td>\n",
       "      <td>little</td>\n",
       "      <td>little</td>\n",
       "      <td>4870</td>\n",
       "      <td>24</td>\n",
       "      <td>car</td>\n",
       "      <td>2</td>\n",
       "    </tr>\n",
       "  </tbody>\n",
       "</table>\n",
       "</div>"
      ],
      "text/plain": [
       "   Unnamed: 0  Age     Sex  Job Housing Saving accounts Checking account  \\\n",
       "0           0   67    male    2     own             NaN           little   \n",
       "1           1   22  female    2     own          little         moderate   \n",
       "2           2   49    male    1     own          little              NaN   \n",
       "3           3   45    male    2    free          little           little   \n",
       "4           4   53    male    2    free          little           little   \n",
       "\n",
       "   Credit amount  Duration              Purpose  Class  \n",
       "0           1169         6             radio/TV      1  \n",
       "1           5951        48             radio/TV      2  \n",
       "2           2096        12            education      1  \n",
       "3           7882        42  furniture/equipment      1  \n",
       "4           4870        24                  car      2  "
      ]
     },
     "execution_count": 66,
     "metadata": {},
     "output_type": "execute_result"
    }
   ],
   "source": [
    "# HEAD OF DATA FRAME\n",
    "data_raw = pd.read_csv('german_credit_risk.csv')\n",
    "data_raw.head()"
   ]
  },
  {
   "cell_type": "code",
   "execution_count": 68,
   "metadata": {},
   "outputs": [
    {
     "data": {
      "text/plain": [
       "Unnamed: 0            0\n",
       "Age                   0\n",
       "Sex                   0\n",
       "Job                   0\n",
       "Housing               0\n",
       "Saving accounts     183\n",
       "Checking account    394\n",
       "Credit amount         0\n",
       "Duration              0\n",
       "Purpose               0\n",
       "Class                 0\n",
       "dtype: int64"
      ]
     },
     "execution_count": 68,
     "metadata": {},
     "output_type": "execute_result"
    }
   ],
   "source": [
    "# CHECK FOR NULL VALUES\n",
    "data_raw.isnull().sum()"
   ]
  },
  {
   "cell_type": "markdown",
   "metadata": {},
   "source": [
    "The data needs to be cleaned and missing values need to be imputed. Features containing string values such as 'male' and 'female' or 'free', 'rent' and 'own' are approriately encoded as binary variables. A one hot encoder is used below to build a matrix that can be plugged into classification algorithms easily.\n",
    "\n",
    "Patsy is an alternative to using a one hot encoder to build a feature dataframe with column names specified, if insight into the weights of particular features are more relevant than the prediction itself."
   ]
  },
  {
   "cell_type": "code",
   "execution_count": 3,
   "metadata": {
    "collapsed": true
   },
   "outputs": [],
   "source": [
    "# DATA CLEANING\n",
    "data = data_raw.ix[:,1:10]\n",
    "label = data_raw.ix[:,10]\n",
    "datan = data\n",
    "datan = datan.replace(['male','female'],[0,1])\n",
    "datan = datan.replace(['free','rent','own'],[0,1,2])\n",
    "datan = datan.replace(['little','moderate','quite rich','rich'],[1,2,3,4])\n",
    "datan = datan.replace(['radio/TV','repairs','domestic appliances','vacation/others','furniture/equipment','car','education','business'],[1,2,3,4,5,6,7,8])\n",
    "datan = datan.fillna(0)\n",
    "enc = OneHotEncoder(categorical_features = [1,2,3,4,5,8],sparse = False)\n",
    "enc.fit(datan)\n",
    "dataprocessed = enc.transform(datan)"
   ]
  },
  {
   "cell_type": "code",
   "execution_count": 71,
   "metadata": {},
   "outputs": [
    {
     "data": {
      "text/html": [
       "<div>\n",
       "<table border=\"1\" class=\"dataframe\">\n",
       "  <thead>\n",
       "    <tr style=\"text-align: right;\">\n",
       "      <th></th>\n",
       "      <th>Age</th>\n",
       "      <th>Sex</th>\n",
       "      <th>Job</th>\n",
       "      <th>Housing</th>\n",
       "      <th>Saving accounts</th>\n",
       "      <th>Checking account</th>\n",
       "      <th>Credit amount</th>\n",
       "      <th>Duration</th>\n",
       "      <th>Purpose</th>\n",
       "    </tr>\n",
       "  </thead>\n",
       "  <tbody>\n",
       "    <tr>\n",
       "      <th>count</th>\n",
       "      <td>1000.000000</td>\n",
       "      <td>1000.000000</td>\n",
       "      <td>1000.000000</td>\n",
       "      <td>1000.000000</td>\n",
       "      <td>1000.000000</td>\n",
       "      <td>1000.00000</td>\n",
       "      <td>1000.000000</td>\n",
       "      <td>1000.000000</td>\n",
       "      <td>1000.000000</td>\n",
       "    </tr>\n",
       "    <tr>\n",
       "      <th>mean</th>\n",
       "      <td>35.546000</td>\n",
       "      <td>0.310000</td>\n",
       "      <td>1.904000</td>\n",
       "      <td>1.605000</td>\n",
       "      <td>1.190000</td>\n",
       "      <td>1.06400</td>\n",
       "      <td>3271.258000</td>\n",
       "      <td>20.903000</td>\n",
       "      <td>4.524000</td>\n",
       "    </tr>\n",
       "    <tr>\n",
       "      <th>std</th>\n",
       "      <td>11.375469</td>\n",
       "      <td>0.462725</td>\n",
       "      <td>0.653614</td>\n",
       "      <td>0.674856</td>\n",
       "      <td>0.966869</td>\n",
       "      <td>1.10776</td>\n",
       "      <td>2822.736876</td>\n",
       "      <td>12.058814</td>\n",
       "      <td>2.442005</td>\n",
       "    </tr>\n",
       "    <tr>\n",
       "      <th>min</th>\n",
       "      <td>19.000000</td>\n",
       "      <td>0.000000</td>\n",
       "      <td>0.000000</td>\n",
       "      <td>0.000000</td>\n",
       "      <td>0.000000</td>\n",
       "      <td>0.00000</td>\n",
       "      <td>250.000000</td>\n",
       "      <td>4.000000</td>\n",
       "      <td>1.000000</td>\n",
       "    </tr>\n",
       "    <tr>\n",
       "      <th>25%</th>\n",
       "      <td>27.000000</td>\n",
       "      <td>0.000000</td>\n",
       "      <td>2.000000</td>\n",
       "      <td>1.000000</td>\n",
       "      <td>1.000000</td>\n",
       "      <td>0.00000</td>\n",
       "      <td>1365.500000</td>\n",
       "      <td>12.000000</td>\n",
       "      <td>1.000000</td>\n",
       "    </tr>\n",
       "    <tr>\n",
       "      <th>50%</th>\n",
       "      <td>33.000000</td>\n",
       "      <td>0.000000</td>\n",
       "      <td>2.000000</td>\n",
       "      <td>2.000000</td>\n",
       "      <td>1.000000</td>\n",
       "      <td>1.00000</td>\n",
       "      <td>2319.500000</td>\n",
       "      <td>18.000000</td>\n",
       "      <td>5.000000</td>\n",
       "    </tr>\n",
       "    <tr>\n",
       "      <th>75%</th>\n",
       "      <td>42.000000</td>\n",
       "      <td>1.000000</td>\n",
       "      <td>2.000000</td>\n",
       "      <td>2.000000</td>\n",
       "      <td>1.000000</td>\n",
       "      <td>2.00000</td>\n",
       "      <td>3972.250000</td>\n",
       "      <td>24.000000</td>\n",
       "      <td>6.000000</td>\n",
       "    </tr>\n",
       "    <tr>\n",
       "      <th>max</th>\n",
       "      <td>75.000000</td>\n",
       "      <td>1.000000</td>\n",
       "      <td>3.000000</td>\n",
       "      <td>2.000000</td>\n",
       "      <td>4.000000</td>\n",
       "      <td>4.00000</td>\n",
       "      <td>18424.000000</td>\n",
       "      <td>72.000000</td>\n",
       "      <td>8.000000</td>\n",
       "    </tr>\n",
       "  </tbody>\n",
       "</table>\n",
       "</div>"
      ],
      "text/plain": [
       "               Age          Sex          Job      Housing  Saving accounts  \\\n",
       "count  1000.000000  1000.000000  1000.000000  1000.000000      1000.000000   \n",
       "mean     35.546000     0.310000     1.904000     1.605000         1.190000   \n",
       "std      11.375469     0.462725     0.653614     0.674856         0.966869   \n",
       "min      19.000000     0.000000     0.000000     0.000000         0.000000   \n",
       "25%      27.000000     0.000000     2.000000     1.000000         1.000000   \n",
       "50%      33.000000     0.000000     2.000000     2.000000         1.000000   \n",
       "75%      42.000000     1.000000     2.000000     2.000000         1.000000   \n",
       "max      75.000000     1.000000     3.000000     2.000000         4.000000   \n",
       "\n",
       "       Checking account  Credit amount     Duration      Purpose  \n",
       "count        1000.00000    1000.000000  1000.000000  1000.000000  \n",
       "mean            1.06400    3271.258000    20.903000     4.524000  \n",
       "std             1.10776    2822.736876    12.058814     2.442005  \n",
       "min             0.00000     250.000000     4.000000     1.000000  \n",
       "25%             0.00000    1365.500000    12.000000     1.000000  \n",
       "50%             1.00000    2319.500000    18.000000     5.000000  \n",
       "75%             2.00000    3972.250000    24.000000     6.000000  \n",
       "max             4.00000   18424.000000    72.000000     8.000000  "
      ]
     },
     "execution_count": 71,
     "metadata": {},
     "output_type": "execute_result"
    }
   ],
   "source": [
    "# OVERVIEW OF THE DATA\n",
    "datan.describe()"
   ]
  },
  {
   "cell_type": "markdown",
   "metadata": {},
   "source": [
    "While we will be using a cross validated grid search and the dataset is relatively small, it is worthwhile to split the data regardless and use a hold-out test split to test the accuracy of the grid searched predictor on 'real world' data, a test size of 20% will be used."
   ]
  },
  {
   "cell_type": "code",
   "execution_count": 52,
   "metadata": {
    "collapsed": true
   },
   "outputs": [],
   "source": [
    "# TRAIN AND TEST SPLIT WITH TEST SIZE OF 20%\n",
    "data_train,data_test,label_train,label_test = train_test_split(dataprocessed,label,test_size = 0.2)"
   ]
  },
  {
   "cell_type": "markdown",
   "metadata": {},
   "source": [
    "# Modelling with default parameters on multiple classifier algorithms"
   ]
  },
  {
   "cell_type": "markdown",
   "metadata": {},
   "source": [
    "- **K Neighbors** - Uses a preset number of neighbors to classify i.e. if n = 3 the three nearest neighbors to a point are of a single class it will be classified as that particular class.\n",
    "- **Logistic Regression** - Bread and butter of linear classification algorithms. Efficient and robust to noise.\n",
    "- **Decision Trees** - Uses nodes (and child nodes) and questions regarding each feature to build an optimal decision tree to classify.\n",
    "- **Support Vector Machines** - Builds a maximum margin between two boundaries built using support vectors, the maximum margin is only affected by the support vectors and new data not falling on boundary lines do not affect the margin. Also good for high dimensional data as it can use a kernel trick to build a hyperplane for class separation.\n",
    "- **Random Forests** - Ensemble learning method bagging decision tree classifers to classify on the modal class. One of the better working classification algorithms but also prone to overfitting on training data.\n",
    "- **Extra Trees** - Extra trees are similar to random forests except splits are selected at random rather than using a criterion.\n",
    "- **Stochastic Gradient Descent** - Linear classifier using stepwise optimization of loss function given a subset of the training data.\n",
    "- **Perceptron** - A very basic neural network resembling a stochastic gradient descent classifier using heaviside step function.\n",
    "- **Passive Aggressive** - Linear classifier that adjusts the model according to whether a classification is correct or not, in passive, if it is a correct classification it will keep the model, in aggressive, if it is an incorrect classification, the model is updated to adjust to this misclassified example. Also has a regularization parameter.\n",
    "- **Ridge Classifier** - Another linear classifier that uses ridge regularization on a feature set, useful when you want to use all features.\n",
    "- **Bernoulli Naive Bayes** - Naive Bayes is a simple probabilistic classifier based on Bayes theorem which assumes (naively) independence between features."
   ]
  },
  {
   "cell_type": "markdown",
   "metadata": {},
   "source": [
    "To start we will be throwing a multitude of classifiers on the data to see what performs best with the default parameters setting for the classifiers and also use a principal component analysis on our feature set to reduce the dimensionality of the data, the grid search will find the optimal number of components for each particular algorithm. \n",
    "\n",
    "Note: Standardization is necessary to ensure our features are all on the same scale."
   ]
  },
  {
   "cell_type": "code",
   "execution_count": 50,
   "metadata": {
    "collapsed": true
   },
   "outputs": [],
   "source": [
    "# SET PARAMETER SPACE FOR GRID SEARCH ON PCA COMPONENTS\n",
    "parameters = {\n",
    "'pca__n_components': [2, 4, 8, 10, 20, 25, 29]\n",
    "}"
   ]
  },
  {
   "cell_type": "code",
   "execution_count": 43,
   "metadata": {
    "collapsed": true
   },
   "outputs": [],
   "source": [
    "# LIST OF BINARY CLASSIFIERS\n",
    "models = [KNeighborsClassifier(),\n",
    "          LogisticRegression(),\n",
    "          DecisionTreeClassifier(),\n",
    "          SVC(),\n",
    "          RandomForestClassifier(),\n",
    "          ExtraTreesClassifier(),\n",
    "          SGDClassifier(),\n",
    "          Perceptron(),\n",
    "          PassiveAggressiveClassifier(),\n",
    "          RidgeClassifier(),\n",
    "          BernoulliNB(),\n",
    "          ]"
   ]
  },
  {
   "cell_type": "code",
   "execution_count": 44,
   "metadata": {
    "collapsed": true
   },
   "outputs": [],
   "source": [
    "# USED TO PLOT A CONFUSION MATRIX TO CHECK HOW THE CLASSIFICATION MODEL WORKS ON THE TEST SET\n",
    "def plot_confusion_matrix(cm, classes, title='Confusion matrix', cmap=plt.cm.bone):\n",
    "    plt.imshow(cm, interpolation='nearest', cmap=cmap)\n",
    "    plt.title(title, fontdict=font)\n",
    "    tick_marks = np.arange(len(classes))\n",
    "    plt.xticks(tick_marks, classes)\n",
    "    plt.yticks(tick_marks, classes)\n",
    "    thresh = cm.max() / 2.\n",
    "    for i, j in itertools.product(range(cm.shape[0]), range(cm.shape[1])):\n",
    "        plt.text(j, i, cm[i, j],\n",
    "                 horizontalalignment=\"center\",\n",
    "                 color=\"black\" if cm[i, j] > thresh else \"white\",\n",
    "                fontdict=font)\n",
    "    plt.ylabel('True label', fontdict=font, fontsize=10)\n",
    "    plt.xlabel('Predicted label', fontdict=font, fontsize=10)\n",
    "    plt.show()"
   ]
  },
  {
   "cell_type": "code",
   "execution_count": 51,
   "metadata": {
    "scrolled": false
   },
   "outputs": [
    {
     "name": "stdout",
     "output_type": "stream",
     "text": [
      "Fitting 5 folds for each of 7 candidates, totalling 35 fits\n"
     ]
    },
    {
     "name": "stderr",
     "output_type": "stream",
     "text": [
      "[Parallel(n_jobs=1)]: Done  35 out of  35 | elapsed:    1.0s finished\n"
     ]
    },
    {
     "name": "stdout",
     "output_type": "stream",
     "text": [
      "Model KNeighborsClassifier(algorithm='auto', leaf_size=30, metric='minkowski',\n",
      "           metric_params=None, n_jobs=1, n_neighbors=5, p=2,\n",
      "           weights='uniform')\n",
      "Grid Search Best Score: 0.685\n",
      "Grid Search Best Params: {'pca__n_components': 20}\n",
      "Classification Report:              precision    recall  f1-score   support\n",
      "\n",
      "          1       0.77      0.89      0.82       140\n",
      "          2       0.58      0.37      0.45        60\n",
      "\n",
      "avg / total       0.71      0.73      0.71       200\n",
      "\n",
      "Accuracy on Test Data: 0.730\n"
     ]
    },
    {
     "data": {
      "image/png": "[encoded data removed]",
      "text/plain": [
       "<matplotlib.figure.Figure at 0x117534450>"
      ]
     },
     "metadata": {},
     "output_type": "display_data"
    },
    {
     "name": "stdout",
     "output_type": "stream",
     "text": [
      "Fitting 5 folds for each of 7 candidates, totalling 35 fits\n"
     ]
    },
    {
     "name": "stderr",
     "output_type": "stream",
     "text": [
      "[Parallel(n_jobs=1)]: Done  35 out of  35 | elapsed:    0.4s finished\n"
     ]
    },
    {
     "name": "stdout",
     "output_type": "stream",
     "text": [
      "Model LogisticRegression(C=1.0, class_weight=None, dual=False, fit_intercept=True,\n",
      "          intercept_scaling=1, max_iter=100, multi_class='ovr', n_jobs=1,\n",
      "          penalty='l2', random_state=None, solver='liblinear', tol=0.0001,\n",
      "          verbose=0, warm_start=False)\n",
      "Grid Search Best Score: 0.73125\n",
      "Grid Search Best Params: {'pca__n_components': 20}\n",
      "Classification Report:              precision    recall  f1-score   support\n",
      "\n",
      "          1       0.76      0.86      0.81       140\n",
      "          2       0.54      0.37      0.44        60\n",
      "\n",
      "avg / total       0.69      0.71      0.70       200\n",
      "\n",
      "Accuracy on Test Data: 0.715\n"
     ]
    },
    {
     "data": {
      "image/png": "[encoded data removed]",
      "text/plain": [
       "<matplotlib.figure.Figure at 0x11787c810>"
      ]
     },
     "metadata": {},
     "output_type": "display_data"
    },
    {
     "name": "stdout",
     "output_type": "stream",
     "text": [
      "Fitting 5 folds for each of 7 candidates, totalling 35 fits\n"
     ]
    },
    {
     "name": "stderr",
     "output_type": "stream",
     "text": [
      "[Parallel(n_jobs=1)]: Done  35 out of  35 | elapsed:    0.7s finished\n"
     ]
    },
    {
     "name": "stdout",
     "output_type": "stream",
     "text": [
      "Model DecisionTreeClassifier(class_weight=None, criterion='gini', max_depth=None,\n",
      "            max_features=None, max_leaf_nodes=None,\n",
      "            min_impurity_split=1e-07, min_samples_leaf=1,\n",
      "            min_samples_split=2, min_weight_fraction_leaf=0.0,\n",
      "            presort=False, random_state=None, splitter='best')\n",
      "Grid Search Best Score: 0.67125\n",
      "Grid Search Best Params: {'pca__n_components': 25}\n",
      "Classification Report:              precision    recall  f1-score   support\n",
      "\n",
      "          1       0.77      0.79      0.78       140\n",
      "          2       0.47      0.45      0.46        60\n",
      "\n",
      "avg / total       0.68      0.69      0.68       200\n",
      "\n",
      "Accuracy on Test Data: 0.685\n"
     ]
    },
    {
     "data": {
      "image/png": "[encoded data removed]",
      "text/plain": [
       "<matplotlib.figure.Figure at 0x11758f2d0>"
      ]
     },
     "metadata": {},
     "output_type": "display_data"
    },
    {
     "name": "stdout",
     "output_type": "stream",
     "text": [
      "Fitting 5 folds for each of 7 candidates, totalling 35 fits\n"
     ]
    },
    {
     "name": "stderr",
     "output_type": "stream",
     "text": [
      "[Parallel(n_jobs=1)]: Done  35 out of  35 | elapsed:    1.4s finished\n"
     ]
    },
    {
     "name": "stdout",
     "output_type": "stream",
     "text": [
      "Model SVC(C=1.0, cache_size=200, class_weight=None, coef0=0.0,\n",
      "  decision_function_shape=None, degree=3, gamma='auto', kernel='rbf',\n",
      "  max_iter=-1, probability=False, random_state=None, shrinking=True,\n",
      "  tol=0.001, verbose=False)\n",
      "Grid Search Best Score: 0.73625\n",
      "Grid Search Best Params: {'pca__n_components': 29}\n",
      "Classification Report:              precision    recall  f1-score   support\n",
      "\n",
      "          1       0.75      0.91      0.82       140\n",
      "          2       0.59      0.28      0.38        60\n",
      "\n",
      "avg / total       0.70      0.72      0.69       200\n",
      "\n",
      "Accuracy on Test Data: 0.725\n"
     ]
    },
    {
     "data": {
      "image/png": "[encoded data removed]",
      "text/plain": [
       "<matplotlib.figure.Figure at 0x1153c4890>"
      ]
     },
     "metadata": {},
     "output_type": "display_data"
    },
    {
     "name": "stdout",
     "output_type": "stream",
     "text": [
      "Fitting 5 folds for each of 7 candidates, totalling 35 fits\n"
     ]
    },
    {
     "name": "stderr",
     "output_type": "stream",
     "text": [
      "[Parallel(n_jobs=1)]: Done  35 out of  35 | elapsed:    2.5s finished\n"
     ]
    },
    {
     "name": "stdout",
     "output_type": "stream",
     "text": [
      "Model RandomForestClassifier(bootstrap=True, class_weight=None, criterion='gini',\n",
      "            max_depth=None, max_features='auto', max_leaf_nodes=None,\n",
      "            min_impurity_split=1e-07, min_samples_leaf=1,\n",
      "            min_samples_split=2, min_weight_fraction_leaf=0.0,\n",
      "            n_estimators=10, n_jobs=1, oob_score=False, random_state=None,\n",
      "            verbose=0, warm_start=False)\n",
      "Grid Search Best Score: 0.72625\n",
      "Grid Search Best Params: {'pca__n_components': 25}\n",
      "Classification Report:              precision    recall  f1-score   support\n",
      "\n",
      "          1       0.72      0.87      0.79       140\n",
      "          2       0.40      0.20      0.27        60\n",
      "\n",
      "avg / total       0.62      0.67      0.63       200\n",
      "\n",
      "Accuracy on Test Data: 0.670\n"
     ]
    },
    {
     "data": {
      "image/png": "[encoded data removed]",
      "text/plain": [
       "<matplotlib.figure.Figure at 0x103598410>"
      ]
     },
     "metadata": {},
     "output_type": "display_data"
    },
    {
     "name": "stdout",
     "output_type": "stream",
     "text": [
      "Fitting 5 folds for each of 7 candidates, totalling 35 fits\n"
     ]
    },
    {
     "name": "stderr",
     "output_type": "stream",
     "text": [
      "[Parallel(n_jobs=1)]: Done  35 out of  35 | elapsed:    2.0s finished\n"
     ]
    },
    {
     "name": "stdout",
     "output_type": "stream",
     "text": [
      "Model ExtraTreesClassifier(bootstrap=False, class_weight=None, criterion='gini',\n",
      "           max_depth=None, max_features='auto', max_leaf_nodes=None,\n",
      "           min_impurity_split=1e-07, min_samples_leaf=1,\n",
      "           min_samples_split=2, min_weight_fraction_leaf=0.0,\n",
      "           n_estimators=10, n_jobs=1, oob_score=False, random_state=None,\n",
      "           verbose=0, warm_start=False)\n",
      "Grid Search Best Score: 0.715\n",
      "Grid Search Best Params: {'pca__n_components': 25}\n",
      "Classification Report:              precision    recall  f1-score   support\n",
      "\n",
      "          1       0.75      0.88      0.81       140\n",
      "          2       0.53      0.32      0.40        60\n",
      "\n",
      "avg / total       0.68      0.71      0.69       200\n",
      "\n",
      "Accuracy on Test Data: 0.710\n"
     ]
    },
    {
     "data": {
      "image/png": "[encoded data removed]",
      "text/plain": [
       "<matplotlib.figure.Figure at 0x11540fe10>"
      ]
     },
     "metadata": {},
     "output_type": "display_data"
    },
    {
     "name": "stdout",
     "output_type": "stream",
     "text": [
      "Fitting 5 folds for each of 7 candidates, totalling 35 fits\n"
     ]
    },
    {
     "name": "stderr",
     "output_type": "stream",
     "text": [
      "[Parallel(n_jobs=1)]: Done  35 out of  35 | elapsed:    0.5s finished\n"
     ]
    },
    {
     "name": "stdout",
     "output_type": "stream",
     "text": [
      "Model SGDClassifier(alpha=0.0001, average=False, class_weight=None, epsilon=0.1,\n",
      "       eta0=0.0, fit_intercept=True, l1_ratio=0.15,\n",
      "       learning_rate='optimal', loss='hinge', n_iter=5, n_jobs=1,\n",
      "       penalty='l2', power_t=0.5, random_state=None, shuffle=True,\n",
      "       verbose=0, warm_start=False)\n",
      "Grid Search Best Score: 0.69\n",
      "Grid Search Best Params: {'pca__n_components': 25}\n",
      "Classification Report:              precision    recall  f1-score   support\n",
      "\n",
      "          1       0.74      0.74      0.74       140\n",
      "          2       0.40      0.40      0.40        60\n",
      "\n",
      "avg / total       0.64      0.64      0.64       200\n",
      "\n",
      "Accuracy on Test Data: 0.640\n"
     ]
    },
    {
     "data": {
      "image/png": "[encoded data removed]",
      "text/plain": [
       "<matplotlib.figure.Figure at 0x1178d5650>"
      ]
     },
     "metadata": {},
     "output_type": "display_data"
    },
    {
     "name": "stdout",
     "output_type": "stream",
     "text": [
      "Fitting 5 folds for each of 7 candidates, totalling 35 fits\n"
     ]
    },
    {
     "name": "stderr",
     "output_type": "stream",
     "text": [
      "[Parallel(n_jobs=1)]: Done  35 out of  35 | elapsed:    0.5s finished\n"
     ]
    },
    {
     "name": "stdout",
     "output_type": "stream",
     "text": [
      "Model Perceptron(alpha=0.0001, class_weight=None, eta0=1.0, fit_intercept=True,\n",
      "      n_iter=5, n_jobs=1, penalty=None, random_state=0, shuffle=True,\n",
      "      verbose=0, warm_start=False)\n",
      "Grid Search Best Score: 0.63625\n",
      "Grid Search Best Params: {'pca__n_components': 4}\n",
      "Classification Report:              precision    recall  f1-score   support\n",
      "\n",
      "          1       0.70      0.99      0.82       140\n",
      "          2       0.00      0.00      0.00        60\n",
      "\n",
      "avg / total       0.49      0.69      0.57       200\n",
      "\n",
      "Accuracy on Test Data: 0.695\n"
     ]
    },
    {
     "data": {
      "image/png": "[encoded data removed]",
      "text/plain": [
       "<matplotlib.figure.Figure at 0x1185f02d0>"
      ]
     },
     "metadata": {},
     "output_type": "display_data"
    },
    {
     "name": "stdout",
     "output_type": "stream",
     "text": [
      "Fitting 5 folds for each of 7 candidates, totalling 35 fits\n"
     ]
    },
    {
     "name": "stderr",
     "output_type": "stream",
     "text": [
      "[Parallel(n_jobs=1)]: Done  35 out of  35 | elapsed:    0.4s finished\n"
     ]
    },
    {
     "name": "stdout",
     "output_type": "stream",
     "text": [
      "Model PassiveAggressiveClassifier(C=1.0, class_weight=None, fit_intercept=True,\n",
      "              loss='hinge', n_iter=5, n_jobs=1, random_state=None,\n",
      "              shuffle=True, verbose=0, warm_start=False)\n",
      "Grid Search Best Score: 0.6625\n",
      "Grid Search Best Params: {'pca__n_components': 10}\n",
      "Classification Report:              precision    recall  f1-score   support\n",
      "\n",
      "          1       0.73      0.69      0.71       140\n",
      "          2       0.36      0.42      0.39        60\n",
      "\n",
      "avg / total       0.62      0.60      0.61       200\n",
      "\n",
      "Accuracy on Test Data: 0.605\n"
     ]
    },
    {
     "data": {
      "image/png": "[encoded data removed]",
      "text/plain": [
       "<matplotlib.figure.Figure at 0x1185f0d50>"
      ]
     },
     "metadata": {},
     "output_type": "display_data"
    },
    {
     "name": "stdout",
     "output_type": "stream",
     "text": [
      "Fitting 5 folds for each of 7 candidates, totalling 35 fits\n"
     ]
    },
    {
     "name": "stderr",
     "output_type": "stream",
     "text": [
      "[Parallel(n_jobs=1)]: Done  35 out of  35 | elapsed:    0.4s finished\n"
     ]
    },
    {
     "name": "stdout",
     "output_type": "stream",
     "text": [
      "Model RidgeClassifier(alpha=1.0, class_weight=None, copy_X=True, fit_intercept=True,\n",
      "        max_iter=None, normalize=False, random_state=None, solver='auto',\n",
      "        tol=0.001)\n",
      "Grid Search Best Score: 0.735\n",
      "Grid Search Best Params: {'pca__n_components': 20}\n",
      "Classification Report:              precision    recall  f1-score   support\n",
      "\n",
      "          1       0.76      0.89      0.82       140\n",
      "          2       0.58      0.35      0.44        60\n",
      "\n",
      "avg / total       0.71      0.73      0.71       200\n",
      "\n",
      "Accuracy on Test Data: 0.730\n"
     ]
    },
    {
     "data": {
      "image/png": "[encoded data removed]",
      "text/plain": [
       "<matplotlib.figure.Figure at 0x1174736d0>"
      ]
     },
     "metadata": {},
     "output_type": "display_data"
    },
    {
     "name": "stdout",
     "output_type": "stream",
     "text": [
      "Fitting 5 folds for each of 7 candidates, totalling 35 fits\n"
     ]
    },
    {
     "name": "stderr",
     "output_type": "stream",
     "text": [
      "[Parallel(n_jobs=1)]: Done  35 out of  35 | elapsed:    0.4s finished\n"
     ]
    },
    {
     "name": "stdout",
     "output_type": "stream",
     "text": [
      "Model BernoulliNB(alpha=1.0, binarize=0.0, class_prior=None, fit_prior=True)\n",
      "Grid Search Best Score: 0.7175\n",
      "Grid Search Best Params: {'pca__n_components': 8}\n",
      "Classification Report:              precision    recall  f1-score   support\n",
      "\n",
      "          1       0.74      0.94      0.83       140\n",
      "          2       0.64      0.23      0.34        60\n",
      "\n",
      "avg / total       0.71      0.73      0.68       200\n",
      "\n",
      "Accuracy on Test Data: 0.730\n"
     ]
    },
    {
     "data": {
      "image/png": "[encoded data removed]",
      "text/plain": [
       "<matplotlib.figure.Figure at 0x1174a4e90>"
      ]
     },
     "metadata": {},
     "output_type": "display_data"
    }
   ],
   "source": [
    "for model in models:\n",
    "    pipeline = Pipeline([\n",
    "        ('ss', StandardScaler()),\n",
    "        ('pca', PCA(random_state=42)),\n",
    "        ('clf', model), \n",
    "    ])\n",
    "    grid_search = GridSearchCV(pipeline, parameters, verbose=1, cv=5)\n",
    "    grid_search.fit(data_train, label_train)\n",
    "    print \"Model\", model\n",
    "    print \"Grid Search Best Score:\", grid_search.best_score_\n",
    "    print \"Grid Search Best Params:\", grid_search.best_params_\n",
    "    \n",
    "    predictions = grid_search.best_estimator_.predict(data_test)\n",
    "    print \"Classification Report:\", classification_report(label_test, predictions)\n",
    "    print 'Accuracy on Test Data: {0:.3f}'.format(accuracy_score(label_test, predictions))  \n",
    "\n",
    "    cnf_matrix = confusion_matrix(label_test, predictions)\n",
    "    plot_confusion_matrix(cnf_matrix, classes=grid_search.best_estimator_.classes_)"
   ]
  },
  {
   "cell_type": "markdown",
   "metadata": {},
   "source": [
    "The grid search revealed SVC, Logistic Regression and Random Forest to be the best classifiers based on the grid searched best score on the training data. The number of principal components ranged from 4 to 25.\n",
    "\n",
    "Choosing the three best performing models, let's see if we can improve these models scores by tuning the hyperparameters of each of these classification algorithms along with PCA components to see if we can improve the score."
   ]
  },
  {
   "cell_type": "markdown",
   "metadata": {},
   "source": [
    "# Gridsearching Random Forest w/ PCA"
   ]
  },
  {
   "cell_type": "code",
   "execution_count": 54,
   "metadata": {
    "collapsed": true
   },
   "outputs": [],
   "source": [
    "rf = RandomForestClassifier()"
   ]
  },
  {
   "cell_type": "code",
   "execution_count": 55,
   "metadata": {
    "collapsed": true
   },
   "outputs": [],
   "source": [
    "rf_parameters = {\n",
    "           \"clf__n_estimators\"      : [100, 300],\n",
    "           # NUMBER OF TREES IN THE FOREST\n",
    "    \n",
    "           \"clf__criterion\"         : [\"gini\", \"entropy\"],\n",
    "           # METRICS ON WHICH TO SPLIT THE DATA:\n",
    "           # ENTROPY: MEASUREMENT OF INFORMATION GAIN\n",
    "           # GINI: PROBABILITY OF CLASSIFYING RANDOM SAMPLE CORRECTLY\n",
    "    \n",
    "           \"clf__max_depth\"         : [10, 20],\n",
    "           # MAX NO. OF FEATURES TO CONSIDER WHEN LOOKING FOR BEST SPLIT \n",
    "    \n",
    "           \"clf__min_samples_split\" : [2, 4],\n",
    "           # MINIMUM NUMBER OF SAMPLES REQUIRED TO SPLIT A NODE\n",
    "    \n",
    "           \"clf__bootstrap\"         : [True, False],\n",
    "           # WHETHER TO USE BOOTSTRAP SAMPLES OR NOT (FORM OF RESAMPLING)\n",
    "    \n",
    "           \"pca__n_components\"      : [2, 8, 10, 20, 25, 29]\n",
    "           # NO OF PRINCIPAL COMPONENTS\n",
    "}"
   ]
  },
  {
   "cell_type": "code",
   "execution_count": 251,
   "metadata": {},
   "outputs": [
    {
     "name": "stdout",
     "output_type": "stream",
     "text": [
      "Fitting 5 folds for each of 128 candidates, totalling 640 fits\n"
     ]
    },
    {
     "name": "stderr",
     "output_type": "stream",
     "text": [
      "[Parallel(n_jobs=1)]: Done 640 out of 640 | elapsed: 14.0min finished\n"
     ]
    },
    {
     "name": "stdout",
     "output_type": "stream",
     "text": [
      "Ranfom Forest Gridsearch\n",
      "Grid Search Best Score: 0.73375\n",
      "Grid Search Best Params: {'clf__n_estimators': 100, 'clf__bootstrap': True, 'clf__criterion': 'gini', 'clf__max_depth': 20, 'pca__n_components': 8, 'clf__min_samples_split': 4}\n",
      "Grid Search Best Estimator: Pipeline(steps=[('ss', StandardScaler(copy=True, with_mean=True, with_std=True)), ('pca', PCA(copy=True, iterated_power='auto', n_components=8, random_state=42,\n",
      "  svd_solver='auto', tol=0.0, whiten=False)), ('clf', RandomForestClassifier(bootstrap=True, class_weight=None, criterion='gini',\n",
      "            max_de...mators=100, n_jobs=1, oob_score=False, random_state=None,\n",
      "            verbose=0, warm_start=False))])\n",
      "Classification Report:              precision    recall  f1-score   support\n",
      "\n",
      "          1       0.73      0.85      0.79       140\n",
      "          2       0.45      0.28      0.35        60\n",
      "\n",
      "avg / total       0.65      0.68      0.66       200\n",
      "\n",
      "Accuracy: 0.680\n"
     ]
    },
    {
     "data": {
      "image/png": "[encoded data removed]",
      "text/plain": [
       "<matplotlib.figure.Figure at 0x1255cad10>"
      ]
     },
     "metadata": {},
     "output_type": "display_data"
    }
   ],
   "source": [
    "pipeline = Pipeline([\n",
    "        ('ss', StandardScaler()),\n",
    "        ('pca', PCA(random_state=42)),\n",
    "        ('clf', rf)\n",
    "    ])\n",
    "grid_search = GridSearchCV(pipeline, rf_parameters, verbose=1, cv=5)\n",
    "grid_search.fit(data_train, label_train)\n",
    "print \"Ranfom Forest Gridsearch\"\n",
    "print \"Grid Search Best Score:\", grid_search.best_score_\n",
    "print \"Grid Search Best Params:\", grid_search.best_params_\n",
    "print \"Grid Search Best Estimator:\", grid_search.best_estimator_\n",
    "    \n",
    "predictions = grid_search.best_estimator_.predict(data_test)\n",
    "print \"Classification Report:\", classification_report(label_test, predictions)\n",
    "print 'Accuracy: {0:.3f}'.format(accuracy_score(label_test, predictions))  \n",
    "\n",
    "    \n",
    "cnf_matrix = confusion_matrix(label_test, predictions)\n",
    "plot_confusion_matrix(cnf_matrix, classes=grid_search.best_estimator_.classes_)"
   ]
  },
  {
   "cell_type": "markdown",
   "metadata": {},
   "source": [
    "The best score generated by the model is 0.73375 compared to 0.72625 on the non hyper parameter tuned Random Forest. This minor improvement is good but once again the Random Forest underperforms when measuring the accuracy on the test hold out data with an accuracy of only 0.68, this means that there is overfitting to the training data."
   ]
  },
  {
   "cell_type": "markdown",
   "metadata": {},
   "source": [
    "# Gridsearching Logistic Regression w/ PCA"
   ]
  },
  {
   "cell_type": "code",
   "execution_count": 30,
   "metadata": {
    "collapsed": true
   },
   "outputs": [],
   "source": [
    "lr = LogisticRegression()"
   ]
  },
  {
   "cell_type": "code",
   "execution_count": 31,
   "metadata": {
    "collapsed": true
   },
   "outputs": [],
   "source": [
    "lr_parameters = {\n",
    "           \"clf__penalty\"      : ['l2'],\n",
    "           # PENALTY SET WITH RIDGE DUE TO OTHER SOLVERS ONLY USING RIDGE\n",
    "    \n",
    "           \"clf__C\"            : [0.001, 0.01, 0.1, 1, 100],\n",
    "           # INVERSE OF REGULARIZATION STRENGTH\n",
    "    \n",
    "           \"clf__solver\"       : ['liblinear', 'sag'],\n",
    "           # ALGORITHM USED IN OPTIMIZATION PROBLEM\n",
    "    \n",
    "           \"clf__tol\"          : [0.0001, 0.001, 0.01],\n",
    "           # TOLERANCE FOR STOPPING CRITERIA\n",
    "    \n",
    "           \"pca__n_components\" : [2, 8, 10, 20, 25, 29]\n",
    "           # NO. OF PRINCIPAL COMPONENTS\n",
    "}"
   ]
  },
  {
   "cell_type": "code",
   "execution_count": 32,
   "metadata": {},
   "outputs": [
    {
     "name": "stdout",
     "output_type": "stream",
     "text": [
      "Fitting 5 folds for each of 120 candidates, totalling 600 fits\n"
     ]
    },
    {
     "name": "stderr",
     "output_type": "stream",
     "text": [
      "[Parallel(n_jobs=1)]: Done 600 out of 600 | elapsed:    9.2s finished\n",
      "//anaconda/lib/python2.7/site-packages/matplotlib/font_manager.py:1297: UserWarning: findfont: Font family [u'sansserif'] not found. Falling back to DejaVu Sans\n",
      "  (prop.get_family(), self.defaultFamily[fontext]))\n"
     ]
    },
    {
     "name": "stdout",
     "output_type": "stream",
     "text": [
      "Logistic Regression Gridsearch\n",
      "Grid Search Best Score: 0.7325\n",
      "Grid Search Best Params: {'clf__tol': 0.0001, 'clf__penalty': 'l2', 'clf__C': 0.01, 'clf__solver': 'liblinear', 'pca__n_components': 10}\n",
      "Grid Search Best Estimator: Pipeline(steps=[('ss', StandardScaler(copy=True, with_mean=True, with_std=True)), ('pca', PCA(copy=True, iterated_power='auto', n_components=10, random_state=42,\n",
      "  svd_solver='auto', tol=0.0, whiten=False)), ('clf', LogisticRegression(C=0.01, class_weight=None, dual=False, fit_intercept=True,\n",
      "          intercept_scaling=1, max_iter=100, multi_class='ovr', n_jobs=1,\n",
      "          penalty='l2', random_state=None, solver='liblinear', tol=0.0001,\n",
      "          verbose=0, warm_start=False))])\n",
      "Classification Report:              precision    recall  f1-score   support\n",
      "\n",
      "          1       0.78      0.86      0.82       140\n",
      "          2       0.57      0.42      0.48        60\n",
      "\n",
      "avg / total       0.71      0.73      0.72       200\n",
      "\n",
      "Accuracy: 0.730\n"
     ]
    },
    {
     "data": {
      "image/png": "[encoded data removed]",
      "text/plain": [
       "<matplotlib.figure.Figure at 0x10272e390>"
      ]
     },
     "metadata": {},
     "output_type": "display_data"
    }
   ],
   "source": [
    "pipeline = Pipeline([\n",
    "        ('ss', StandardScaler()),\n",
    "        ('pca', PCA(random_state=42)),\n",
    "        ('clf', lr)\n",
    "    ])\n",
    "grid_search = GridSearchCV(pipeline, lr_parameters, verbose=1, cv=5)\n",
    "grid_search.fit(data_train, label_train)\n",
    "print \"Logistic Regression Gridsearch\"\n",
    "print \"Grid Search Best Score:\", grid_search.best_score_\n",
    "print \"Grid Search Best Params:\", grid_search.best_params_\n",
    "print \"Grid Search Best Estimator:\", grid_search.best_estimator_\n",
    "    \n",
    "predictions = grid_search.best_estimator_.predict(data_test)\n",
    "print \"Classification Report:\", classification_report(label_test, predictions)\n",
    "print 'Accuracy: {0:.3f}'.format(accuracy_score(label_test, predictions))  \n",
    "    \n",
    "cnf_matrix = confusion_matrix(label_test, predictions)\n",
    "plot_confusion_matrix(cnf_matrix, classes=grid_search.best_estimator_.classes_)"
   ]
  },
  {
   "cell_type": "markdown",
   "metadata": {},
   "source": [
    "The score improved very slightly on logistic regression from 0.7315 to 0.7325 on the grid search but however performs a bit better on classification accuracy on the test hold out data, at 0.73 rather than 0.715. The translation from the training data to test data actually improves which shows it is likely more reliable with new data than the Random Forest."
   ]
  },
  {
   "cell_type": "markdown",
   "metadata": {},
   "source": [
    "# Gridsearching Support Vector Classifier w/ PCA"
   ]
  },
  {
   "cell_type": "code",
   "execution_count": 56,
   "metadata": {
    "collapsed": true
   },
   "outputs": [],
   "source": [
    "svc = SVC(random_state=42)"
   ]
  },
  {
   "cell_type": "code",
   "execution_count": 64,
   "metadata": {
    "collapsed": true
   },
   "outputs": [],
   "source": [
    "svc_parameters = {\n",
    "           \"clf__kernel\"      : ['rbf', 'linear'],\n",
    "           # KERNEL TYPE TO BE USED\n",
    "    \n",
    "           \"clf__C\"           : [0.1, 1, 10, 100],\n",
    "           # PENALTY PARAMETER FOR ERROR TERM\n",
    "    \n",
    "           \"clf__gamma\"       : [0.001, 0.01, 0.1, 1],\n",
    "           # KERNAL COEFFICIENT (SMOOTHING)\n",
    "    \n",
    "           \"pca__n_components\": [8, 10, 20, 25, 29]\n",
    "           # NO. OF PRINCIPAL COMPONENTS\n",
    "}"
   ]
  },
  {
   "cell_type": "code",
   "execution_count": 65,
   "metadata": {},
   "outputs": [
    {
     "name": "stdout",
     "output_type": "stream",
     "text": [
      "Fitting 5 folds for each of 480 candidates, totalling 2400 fits\n"
     ]
    },
    {
     "name": "stderr",
     "output_type": "stream",
     "text": [
      "[Parallel(n_jobs=1)]: Done 2400 out of 2400 | elapsed:  8.7min finished\n"
     ]
    },
    {
     "name": "stdout",
     "output_type": "stream",
     "text": [
      "Logistic Regression Gridsearch\n",
      "Grid Search Best Score: 0.73125\n",
      "Grid Search Best Params: {'clf__gamma': 0.001, 'clf__degree': 1, 'pca__n_components': 20, 'clf__C': 100, 'clf__kernel': 'rbf'}\n",
      "Grid Search Best Estimator: Pipeline(steps=[('ss', StandardScaler(copy=True, with_mean=True, with_std=True)), ('pca', PCA(copy=True, iterated_power='auto', n_components=20, random_state=42,\n",
      "  svd_solver='auto', tol=0.0, whiten=False)), ('clf', SVC(C=100, cache_size=200, class_weight=None, coef0=0.0,\n",
      "  decision_function_shape=None, degree=1, gamma=0.001, kernel='rbf',\n",
      "  max_iter=-1, probability=False, random_state=42, shrinking=True,\n",
      "  tol=0.001, verbose=False))])\n",
      "Classification Report:              precision    recall  f1-score   support\n",
      "\n",
      "          1       0.79      0.85      0.82       148\n",
      "          2       0.45      0.35      0.39        52\n",
      "\n",
      "avg / total       0.70      0.72      0.71       200\n",
      "\n",
      "Accuracy: 0.720\n"
     ]
    },
    {
     "data": {
      "image/png": "[encoded data removed]",
      "text/plain": [
       "<matplotlib.figure.Figure at 0x11757e4d0>"
      ]
     },
     "metadata": {},
     "output_type": "display_data"
    }
   ],
   "source": [
    "pipeline = Pipeline([\n",
    "        ('ss', StandardScaler()),\n",
    "        ('pca', PCA(random_state=42)),\n",
    "        ('clf', svc)\n",
    "    ])\n",
    "grid_search = GridSearchCV(pipeline, svc_parameters, verbose=1, cv=5)\n",
    "grid_search.fit(data_train, label_train)\n",
    "print \"Logistic Regression Gridsearch\"\n",
    "print \"Grid Search Best Score:\", grid_search.best_score_\n",
    "print \"Grid Search Best Params:\", grid_search.best_params_\n",
    "print \"Grid Search Best Estimator:\", grid_search.best_estimator_\n",
    "    \n",
    "predictions = grid_search.best_estimator_.predict(data_test)\n",
    "print \"Classification Report:\", classification_report(label_test, predictions)\n",
    "print 'Accuracy: {0:.3f}'.format(accuracy_score(label_test, predictions))  \n",
    "    \n",
    "cnf_matrix = confusion_matrix(label_test, predictions)\n",
    "plot_confusion_matrix(cnf_matrix, classes=grid_search.best_estimator_.classes_)"
   ]
  },
  {
   "cell_type": "markdown",
   "metadata": {},
   "source": [
    "Gridsearching the support vector classifier parameters did not show any improvements in the score of the model, in fact the parameters caused the model to detoriate slightly in accuracy. The grid search resulted in using less principal components as well which may be the cause of the decrease."
   ]
  },
  {
   "cell_type": "markdown",
   "metadata": {},
   "source": [
    "# Using Gradient Boosting in XGBoost"
   ]
  },
  {
   "cell_type": "markdown",
   "metadata": {},
   "source": [
    "Using Sci-Kit learn's prebuilt machine learning packages are generally easy to implement but XGBoost tends to produce similar or better results using ensemble gradient boosting. It also has regularization built in, hence it tends to perform better than standard gradient boosting models."
   ]
  },
  {
   "cell_type": "code",
   "execution_count": 15,
   "metadata": {
    "collapsed": true
   },
   "outputs": [],
   "source": [
    "# SCALE THE DATA - NO PIPELINE OR PCA BEING USED\n",
    "ss = StandardScaler()\n",
    "dataprocessed = ss.fit_transform(dataprocessed)\n",
    "\n",
    "# TRAIN AND TEST SPLIT WITH TEST SIZE OF 20%\n",
    "data_train,data_test,label_train,label_test = train_test_split(dataprocessed,label,test_size = 0.2)"
   ]
  },
  {
   "cell_type": "code",
   "execution_count": 21,
   "metadata": {
    "collapsed": true
   },
   "outputs": [],
   "source": [
    "# SET FIXED PARAMETERS - BINARY FOR OUR CLASSIFICATION\n",
    "params_fixed = {\n",
    "    'objective': 'binary:logistic',\n",
    "    'silent': 1,\n",
    "}\n",
    "\n",
    "# HYPERPARAMETER SPACE\n",
    "space = {\n",
    "    'max_depth': (1, 5),\n",
    "    'learning_rate': (10**-4, 10**-1),\n",
    "    'n_estimators': (10, 200),\n",
    "    'min_child_weight': (1, 20),\n",
    "    'subsample': (0, 1),\n",
    "    'colsample_bytree': (0.3, 1)\n",
    "}\n",
    "\n",
    "# DEFINE CLASSIFIER\n",
    "reg = XGBClassifier(**params_fixed)\n",
    "\n",
    "# CREATE A FUNCTION THAT RETURNS A CROSS VALIDATED SCORE FOR PARAMETER TESTING\n",
    "def objective(params):\n",
    "    \"\"\" Wrap a cross validated inverted `accuracy` as objective func \"\"\"\n",
    "    reg.set_params(**{k: p for k, p in zip(space.keys(), params)})\n",
    "    return 1-np.mean(cross_val_score(\n",
    "        reg, data_train, label_train, cv=5, n_jobs=-1,\n",
    "        scoring='accuracy')\n",
    "    )"
   ]
  },
  {
   "cell_type": "code",
   "execution_count": 22,
   "metadata": {},
   "outputs": [
    {
     "name": "stdout",
     "output_type": "stream",
     "text": [
      "Best accuracy score = 0.73875\n",
      "Best parameters = {'colsample_bytree': 1.0, 'learning_rate': 0.067929683947243275, 'min_child_weight': 1, 'n_estimators': 134, 'subsample': 1, 'max_depth': 5}\n"
     ]
    }
   ],
   "source": [
    "# USES SCI-KIT OPTIMIZE OVER GRIDSEARCH TO FIND THE OPTIMAL HYPERPARAMETERS IN THE HYPERPARAMETER SPACE\n",
    "from skopt import gp_minimize\n",
    "res_gp = gp_minimize(objective, space.values(), n_calls=50, random_state=42)\n",
    "best_hyper_params = {k: v for k, v in zip(space.keys(), res_gp.x)}\n",
    "\n",
    "print \"Best accuracy score =\", 1-res_gp.fun\n",
    "print \"Best parameters =\", best_hyper_params"
   ]
  },
  {
   "cell_type": "code",
   "execution_count": 23,
   "metadata": {
    "collapsed": true
   },
   "outputs": [],
   "source": [
    "# SET THE BEST HYPERPARAMETERS\n",
    "params = best_hyper_params.copy()\n",
    "params.update(params_fixed)\n",
    "\n",
    "# REDEFINE THE CLASSIFIER WITH BEST PARAMETERS\n",
    "clf = XGBClassifier(**params)"
   ]
  },
  {
   "cell_type": "code",
   "execution_count": 24,
   "metadata": {
    "collapsed": true
   },
   "outputs": [],
   "source": [
    "# FIT THE CLASSIFIER AND PREDICT\n",
    "clf.fit(data_train, label_train)\n",
    "y_test_preds = clf.predict(data_test)"
   ]
  },
  {
   "cell_type": "code",
   "execution_count": 33,
   "metadata": {},
   "outputs": [
    {
     "name": "stdout",
     "output_type": "stream",
     "text": [
      "Classification Report:              precision    recall  f1-score   support\n",
      "\n",
      "          1       0.79      0.91      0.85       140\n",
      "          2       0.68      0.45      0.54        60\n",
      "\n",
      "avg / total       0.76      0.77      0.75       200\n",
      "\n",
      "Accuracy: 0.770\n"
     ]
    },
    {
     "data": {
      "image/png": "[encoded data removed]",
      "text/plain": [
       "<matplotlib.figure.Figure at 0x1153073d0>"
      ]
     },
     "metadata": {},
     "output_type": "display_data"
    }
   ],
   "source": [
    "print \"Classification Report:\", classification_report(label_test, y_test_preds)\n",
    "print 'Accuracy: {0:.3f}'.format(accuracy_score(label_test, y_test_preds))  \n",
    "cnf_matrix = confusion_matrix(label_test, y_test_preds)\n",
    "plot_confusion_matrix(cnf_matrix, classes=grid_search.best_estimator_.classes_)"
   ]
  },
  {
   "cell_type": "markdown",
   "metadata": {},
   "source": [
    "Using XGBoost we are able to outperform our grid-searched classifiers in sci-kit learn as expected. A hyperparameter optimized XGBoost Classifier produced an accuracy score of 0.77 on the test data, the highest of all tested classifiers."
   ]
  },
  {
   "cell_type": "markdown",
   "metadata": {},
   "source": [
    "# Conclusion"
   ]
  },
  {
   "cell_type": "markdown",
   "metadata": {},
   "source": [
    "** Model Results on Test Data**\n",
    "- Logistic Regression: **0.73**\n",
    "- Random Forest: **0.68**\n",
    "- Support Vector Machines: **0.72**\n",
    "- XGBoost: **0.77**"
   ]
  },
  {
   "cell_type": "markdown",
   "metadata": {},
   "source": [
    "**Potential to improve**\n",
    "- Testing out a Neural Network with Keras or TensorFlow\n",
    "- More feature engineering with our given features, i.e. creating a column with a rank for Purpose, or creating new features from combining existing features such as Purpose and Duration in creative ways.\n",
    "- Test on other similar data to see how well the model holds up as this data is limited to the the German market.\n",
    "- Use Patsy and peel away the PCA/Scaling steps from a pipeline and pull coefficients from the gridsearch to find out how the coefficient weighting differs for each feature."
   ]
  },
  {
   "cell_type": "markdown",
   "metadata": {},
   "source": [
    "Using gradient boosted trees in XGBoost's classifier we were able to go as high as **0.77** on classification accuracy on the test data, decreasing false positives and negatives relative to the other models. As the size of the data is quite small, these classification algorithms tend to perform similarly however it would be interesting to see how well a neural network compares in results but it tends to be more computationally intensive and given the size of the data, tuning parameters and more feature engineering is likely to produce similar results."
   ]
  }
 ],
 "metadata": {
  "anaconda-cloud": {},
  "kernelspec": {
   "display_name": "Python 3",
   "language": "python",
   "name": "python3"
  },
  "language_info": {
   "codemirror_mode": {
    "name": "ipython",
    "version": 3
   },
   "file_extension": ".py",
   "mimetype": "text/x-python",
   "name": "python",
   "nbconvert_exporter": "python",
   "pygments_lexer": "ipython3",
   "version": "3.6.3"
  }
 },
 "nbformat": 4,
 "nbformat_minor": 2
}
